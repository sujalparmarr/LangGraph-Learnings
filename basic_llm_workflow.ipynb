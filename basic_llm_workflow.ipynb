{
 "cells": [
  {
   "cell_type": "code",
   "execution_count": 1,
   "id": "05a071ec",
   "metadata": {},
   "outputs": [],
   "source": [
    "from dotenv import load_dotenv\n",
    "load_dotenv()\n",
    "from langchain_openai import ChatOpenAI"
   ]
  },
  {
   "cell_type": "code",
   "execution_count": 2,
   "id": "45bab983",
   "metadata": {},
   "outputs": [],
   "source": [
    "model = ChatOpenAI(model='gpt-5-nano')"
   ]
  },
  {
   "cell_type": "code",
   "execution_count": 3,
   "id": "2debda99",
   "metadata": {},
   "outputs": [],
   "source": [
    "from langgraph.graph import StateGraph , START , END\n",
    "from typing import TypedDict"
   ]
  },
  {
   "cell_type": "code",
   "execution_count": 4,
   "id": "a98528b1",
   "metadata": {},
   "outputs": [],
   "source": [
    "# Creating State\n",
    "class LLMWorkflow(TypedDict):\n",
    "    question : str\n",
    "    answer : str "
   ]
  },
  {
   "cell_type": "code",
   "execution_count": 5,
   "id": "11d77eea",
   "metadata": {},
   "outputs": [],
   "source": [
    "def question(state:LLMWorkflow) -> LLMWorkflow:\n",
    "    question = state['question']\n",
    "    prompt=f\"Answet the following question {question}\"\n",
    "    state['answer']=model.invoke(prompt).content\n",
    "    \n",
    "    return state"
   ]
  },
  {
   "cell_type": "code",
   "execution_count": 6,
   "id": "2045c7bf",
   "metadata": {},
   "outputs": [],
   "source": [
    "graph = StateGraph(LLMWorkflow)\n",
    "\n",
    "graph.add_node(\"question\",question)\n",
    "\n",
    "graph.add_edge(START,\"question\")\n",
    "graph.add_edge(\"question\",END)\n",
    "\n",
    "workflow=graph.compile()\n"
   ]
  },
  {
   "cell_type": "code",
   "execution_count": 7,
   "id": "079c1487",
   "metadata": {},
   "outputs": [],
   "source": [
    "output=workflow.invoke({\"question\":\"Who is Elon Musk?\"})"
   ]
  },
  {
   "cell_type": "code",
   "execution_count": 8,
   "id": "4a9c0428",
   "metadata": {},
   "outputs": [
    {
     "name": "stdout",
     "output_type": "stream",
     "text": [
      "{'question': 'Who is Elon Musk?', 'answer': 'Elon Musk is a billionaire entrepreneur and tech magnate. Key points:\\n\\n- Born in 1971 in Pretoria, South Africa; later moved to the United States.\\n- CEO and lead designer of SpaceX, aiming to reduce space travel costs and enable Mars colonization.\\n- CEO and product architect of Tesla, Inc., driving electric vehicles, battery technology, and sustainable energy.\\n- Founder of The Boring Company (tunnel projects) and co-founder of Neuralink (brain–computer interfaces).\\n- Founder/owner of X (formerly Twitter), after acquiring the platform and rebranding it.\\n- Co-founded PayPal (originally X.com) and was an early investor in OpenAI (left the OpenAI board in 2018).\\n- Widely known as one of the richest people in the world and for his high-profile, sometimes controversial public presence.\\n\\nIf you want a shorter version: Elon Musk is a leading entrepreneur behind SpaceX and Tesla, with additional ventures in tunnels, brain tech, and social media.'}\n"
     ]
    }
   ],
   "source": [
    "print(output)"
   ]
  },
  {
   "cell_type": "code",
   "execution_count": 9,
   "id": "6d4878aa",
   "metadata": {},
   "outputs": [
    {
     "data": {
      "image/png": "[encoded data removed]",
      "text/plain": [
       "<IPython.core.display.Image object>"
      ]
     },
     "execution_count": 9,
     "metadata": {},
     "output_type": "execute_result"
    }
   ],
   "source": [
    "from IPython.display import Image\n",
    "Image(workflow.get_graph().draw_mermaid_png())"
   ]
  }
 ],
 "metadata": {
  "kernelspec": {
   "display_name": "venv",
   "language": "python",
   "name": "python3"
  },
  "language_info": {
   "codemirror_mode": {
    "name": "ipython",
    "version": 3
   },
   "file_extension": ".py",
   "mimetype": "text/x-python",
   "name": "python",
   "nbconvert_exporter": "python",
   "pygments_lexer": "ipython3",
   "version": "3.11.2"
  }
 },
 "nbformat": 4,
 "nbformat_minor": 5
}
