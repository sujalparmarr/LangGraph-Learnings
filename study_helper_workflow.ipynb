{
 "cells": [
  {
   "cell_type": "markdown",
   "id": "acc1ae7f",
   "metadata": {},
   "source": [
    "* Study Helper\n",
    "\n",
    "Input: A topic like “Neural Networks.”\n",
    "\n",
    "Parallel branches:\n",
    "\n",
    "A: Generate a simple definition.\n",
    "\n",
    "B: Give a real-world analogy.\n",
    "\n",
    "C: Suggest 2 beginner resources (book/video).\n",
    "\n",
    "Merge: Display in a structured “study card.”"
   ]
  },
  {
   "cell_type": "code",
   "execution_count": 1,
   "id": "8f3667d6",
   "metadata": {},
   "outputs": [],
   "source": [
    "from dotenv import load_dotenv\n",
    "load_dotenv()\n",
    "from langchain_openai import ChatOpenAI\n",
    "from langgraph.graph import StateGraph , START , END\n",
    "from typing import TypedDict"
   ]
  },
  {
   "cell_type": "code",
   "execution_count": 2,
   "id": "ee71092d",
   "metadata": {},
   "outputs": [],
   "source": [
    "model = ChatOpenAI(model='gpt-5-nano')"
   ]
  },
  {
   "cell_type": "code",
   "execution_count": 3,
   "metadata": {},
   "outputs": [],
   "source": [
    "class Study(TypedDict):\n",
    "    topic:str\n",
    "    definition:str\n",
    "    analogy:str\n",
    "    resource:str "
   ]
  },
  {
   "cell_type": "code",
   "execution_count": 6,
   "id": "15d59ea1",
   "metadata": {},
   "outputs": [],
   "source": [
    "def definition(state:Study):\n",
    "    prompt=f\"Write the definition of this topic {state['topic']}\"\n",
    "    output=model.invoke(prompt).content\n",
    "    return {\"definition\":output}\n",
    "\n",
    "def analogy(state:Study):\n",
    "    prompt=f\"Give an real world analogy on this topic {state['topic']}\"\n",
    "    output=model.invoke(prompt).content\n",
    "    return {\"analogy\":output}\n",
    "\n",
    "def resource(state:Study):\n",
    "    prompt=f\"Give some resource like book or video on this topic {state['topic']}\"\n",
    "    output=model.invoke(prompt).content\n",
    "    return {\"resource\":output}\n",
    "\n",
    "def merge(state: Study):\n",
    "    # Combine all results into a single study card\n",
    "    study_card = (\n",
    "        f\"📚 Topic: {state['topic']}\\n\\n\"\n",
    "        f\"🔹 Definition:\\n{state['definition']}\\n\\n\"\n",
    "        f\"🌟 Analogy:\\n{state['analogy']}\\n\\n\"\n",
    "        f\"🔗 Resource:\\n{state['resource']}\"\n",
    "    )\n",
    "    return {\"study_card\": study_card}\n"
   ]
  },
  {
   "cell_type": "code",
   "execution_count": 8,
   "id": "2dd817db",
   "metadata": {},
   "outputs": [],
   "source": [
    "graph=StateGraph(Study)\n",
    "graph.add_node(\"definition\",definition)\n",
    "graph.add_node(\"analogy\",analogy)\n",
    "graph.add_node(\"resource\",resource)\n",
    "graph.add_node(\"merge\", merge)\n",
    "\n",
    "graph.add_edge(START,\"definition\")\n",
    "graph.add_edge(START,\"analogy\")\n",
    "graph.add_edge(START,\"resource\")\n",
    "\n",
    "graph.add_edge([\"definition\", \"analogy\", \"resource\"], \"merge\")\n",
    "graph.add_edge(\"merge\", END)\n",
    "\n",
    "app = graph.compile()"
   ]
  },
  {
   "cell_type": "code",
   "execution_count": 10,
   "metadata": {},
   "outputs": [],
   "source": [
    "output=app.invoke({\"topic\":\"Stock Market\"})"
   ]
  },
  {
   "cell_type": "code",
   "execution_count": 12,
   "id": "bb990b2e",
   "metadata": {},
   "outputs": [
    {
     "name": "stdout",
     "output_type": "stream",
     "text": [
      "Definition:\n",
      "The stock market is a network of markets and venues where buyers and sellers trade shares of publicly issued companies and other related securities. It serves as the primary market for new issues (IPOs) and the secondary market for trading existing shares, providing price discovery, liquidity, and capital formation. Prices are determined by supply and demand and are influenced by company performance, economic conditions, and investor sentiment. It is organized around stock exchanges (like the NYSE and NASDAQ) and over-the-counter markets, and is regulated by government authorities with the help of brokers, clearinghouses, and other participants.\n"
     ]
    }
   ],
   "source": [
    "print(output[\"definition\"])"
   ]
  },
  {
   "cell_type": "code",
   "execution_count": 13,
   "id": "dacc3136",
   "metadata": {},
   "outputs": [
    {
     "name": "stdout",
     "output_type": "stream",
     "text": [
      "Here are a few simple real-world analogies to help you visualize the stock market:\n",
      "\n",
      "- Farmers’ market of ownership\n",
      "  - Each share is a tiny slice of a company. The price moves up or down based on how many people want to buy versus sell, driven by what they think the company will earn in the future. If the company pays dividends, that’s like getting a share of the profits along the way.\n",
      "\n",
      "- Auction house\n",
      "  - Stocks trade like items in an auction. Buyers place bids, sellers set asking prices, and the market price is where the highest bids meet the lowest asks. New information can shift bids and change prices quickly.\n",
      "\n",
      "- Owning a franchise or sports team\n",
      "  - Investors own a stake in a business’s future profits. If the company performs well and grows, the value of the stake rises. Poor performance or bad news can lower the price you could sell it for.\n",
      "\n",
      "- Weather forecast of risk\n",
      "  - The stock price reflects the market’s view of risk and future outcomes. As new information arrives (earnings, news, world events), the “forecast” updates and prices adjust.\n",
      "\n",
      "If you’d like, I can tailor one analogy to a specific angle (long-term investing vs. short-term trading) or expand on any of these.\n"
     ]
    }
   ],
   "source": [
    "print(output[\"analogy\"])"
   ]
  },
  {
   "cell_type": "code",
   "execution_count": 14,
   "metadata": {},
   "outputs": [
    {
     "name": "stdout",
     "output_type": "stream",
     "text": [
      "Here are solid resources across formats and levels to get you started with the stock market. If you tell me your current level and whether you’re more into investing or trading, I can tailor a shorter list.\n",
      "\n",
      "Beginner-friendly books\n",
      "- The Little Book of Common Sense Investing — John C. Bogle\n",
      "  Why: great introduction to index funds and why passive investing often wins.\n",
      "- A Random Walk Down Wall Street — Burton G. Malkiel\n",
      "  Why: broad overview of how markets work and the case for diversification.\n",
      "- The Intelligent Investor — Benjamin Graham (with Jason Zweig’s updated notes)\n",
      "  Why: classic framework for value investing and risk management.\n",
      "\n",
      "Beginner-friendly videos / courses\n",
      "- Khan Academy Finance and Capital Markets (free)\n",
      "  What you’ll get: fundamentals of stocks, bonds, and how markets function.\n",
      "- Intro investing courses on Coursera / Udemy\n",
      "  What you’ll get: structured, beginner-friendly overviews of stock investing concepts.\n",
      "- YouTube channels (educational, not trading tips)\n",
      "  Examples: videos by Aswath Damodaran on valuation; Ben Felix on long-term investing; Rayner Teo for practical, non-hype explanations.\n",
      "\n",
      "Intermediate / value investing\n",
      "- One Up On Wall Street — Peter Lynch\n",
      "  Why: practical, readable guide to doing basic stock research and developing better judgment.\n",
      "- Security Analysis — Benjamin Graham & David Dodd\n",
      "  Why: deeper, more rigorous look at analyzing companies (more academic).\n",
      "- The Little Book That Still Beats the Market — Joel Greenblatt\n",
      "  Why: approachable intro to simple value-based screening ideas.\n",
      "\n",
      "Technical analysis / trading (optional, if you’re leaning toward short-term trading)\n",
      "- Technical Analysis of the Financial Markets — John Murphy\n",
      "  Why: foundational textbook for charting and indicators.\n",
      "- YouTube / courses by reputable traders (focus on concepts, not gimmicks)\n",
      "\n",
      "Valuation and advanced topics\n",
      "- Damodaran on Valuation (Aswath Damodaran) — online writings, slides, and lectures\n",
      "  Why: practical, real-world valuation frameworks used by professionals.\n",
      "- Quantitative value / value investing books (e.g., Wesley Gray, Tobias Carlisle)\n",
      "  Why: for those interested in a more systematic, data-driven approach.\n",
      "\n",
      "Free online resources\n",
      "- Investopedia: Stock market basics, glossary, and beginner tutorials\n",
      "- Damodaran’s website: free valuation data, spreadsheets, and teaching notes\n",
      "- Stock simulators (practice without real money): Investopedia Simulator, MarketWatch Virtual Stock Exchange\n",
      "\n",
      "Practice and gradual implementation\n",
      "- Use a stock market simulator to practice choosing ideas and sticking to a plan\n",
      "- Start small with a simple, well-diversified approach (e.g., broad index funds) before speculating\n",
      "- Complement reading with actual observe-and-learn over time\n",
      "\n",
      "Would you like me to tailor a short starter plan for you (e.g., one-month path with a couple of books + a video course), or focus on investing vs trading resources?\n"
     ]
    }
   ],
   "source": [
    "print(output[\"resource\"])"
   ]
  },
  {
   "cell_type": "code",
   "execution_count": null,
   "id": "9dc74299",
   "metadata": {},
   "outputs": [],
   "source": []
  }
 ],
 "metadata": {
  "kernelspec": {
   "display_name": "venv",
   "language": "python",
   "name": "python3"
  },
  "language_info": {
   "codemirror_mode": {
    "name": "ipython",
    "version": 3
   },
   "file_extension": ".py",
   "mimetype": "text/x-python",
   "name": "python",
   "nbconvert_exporter": "python",
   "pygments_lexer": "ipython3",
   "version": "3.11.2"
  }
 },
 "nbformat": 4,
 "nbformat_minor": 5
}
