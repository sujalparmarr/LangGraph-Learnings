{
 "cells": [
  {
   "cell_type": "markdown",
   "id": "79cbc0da",
   "metadata": {},
   "source": [
    "Movie Recommendation Helper\n",
    "\n",
    "Flow: User gives a genre → Prompt asks LLM to suggest 3 movies → Next node fetches a short description or rating for each movie → Final output: a neat recommendation list."
   ]
  },
  {
   "cell_type": "code",
   "execution_count": 1,
   "id": "3518b46f",
   "metadata": {},
   "outputs": [],
   "source": [
    "from dotenv import load_dotenv\n",
    "load_dotenv()\n",
    "from langchain_openai import ChatOpenAI\n",
    "from langgraph.graph import StateGraph , START , END\n",
    "from typing import TypedDict"
   ]
  },
  {
   "cell_type": "code",
   "execution_count": 2,
   "id": "5a025b05",
   "metadata": {},
   "outputs": [],
   "source": [
    "model = ChatOpenAI(model='gpt-5-nano')"
   ]
  },
  {
   "cell_type": "code",
   "execution_count": 3,
   "id": "9d9cbb0e",
   "metadata": {},
   "outputs": [],
   "source": [
    "class Moviestate(TypedDict):\n",
    "    genre:str\n",
    "    movies:str\n",
    "    description:str\n",
    "    recommended:str "
   ]
  },
  {
   "cell_type": "code",
   "execution_count": 4,
   "id": "7236c84f",
   "metadata": {},
   "outputs": [],
   "source": [
    "def movie_suggest(state:Moviestate) -> Moviestate:\n",
    "    genre=state['genre']\n",
    "    prompt=f\"Suggest some 3 best movies in this genre - {genre}\"\n",
    "    state['movies']=model.invoke(prompt).content\n",
    "    return state \n",
    "\n",
    "def movie_description(state:Moviestate) -> Moviestate:\n",
    "    movies=state['movies']\n",
    "    prompt=f\"Write description of each of these 3 movies - {movies}\"\n",
    "    state['description']=model.invoke(prompt).content\n",
    "    return state \n",
    "\n",
    "def movie_recommended(state:Moviestate) -> Moviestate:\n",
    "    genre=state['genre']\n",
    "    movies=state['movies']\n",
    "    description=state['description']\n",
    "    prompt=f\"Based on this {genre} and looking at {description} recommend best {movies}\"\n",
    "    state['recommended']=model.invoke(prompt).content\n",
    "    return state\n",
    "     "
   ]
  },
  {
   "cell_type": "code",
   "execution_count": 5,
   "id": "fa6aceca",
   "metadata": {},
   "outputs": [],
   "source": [
    "graph=StateGraph(Moviestate)\n",
    "\n",
    "graph.add_node(\"movie_suggest\",movie_suggest)\n",
    "graph.add_edge(START,\"movie_suggest\")\n",
    "graph.add_node(\"movie_description\",movie_description)\n",
    "graph.add_edge(\"movie_suggest\",\"movie_description\")\n",
    "graph.add_node(\"movie_recommended\",movie_recommended)\n",
    "graph.add_edge(\"movie_description\",\"movie_recommended\")\n",
    "graph.add_edge(\"movie_recommended\",END)\n",
    "\n",
    "workflow=graph.compile()"
   ]
  },
  {
   "cell_type": "code",
   "execution_count": 6,
   "id": "6b2be592",
   "metadata": {},
   "outputs": [
    {
     "name": "stdout",
     "output_type": "stream",
     "text": [
      "{'genre': 'action movies', 'movies': 'Here are three widely regarded top action movies you might enjoy:\\n\\n1) The Dark Knight (2008) — A gripping superhero/action blend from Christopher Nolan, anchored by Heath Ledger’s iconic Joker and standout set-piece chaos.\\n\\n2) Terminator 2: Judgment Day (1991) — Groundbreaking, high-octane sci-fi action with groundbreaking practical effects and a compelling human story.\\n\\n3) Mad Max: Fury Road (2015) — Non-stop, visually stunning chase movie with practical effects, minimal dialogue, and adrenaline-fueled sequences.\\n\\nWant options in a different style (martial-arts focus, spy thrillers, newer releases, or pure gun-fu)? I can tailor a few more picks.', 'description': 'Here are concise descriptions for each film:\\n\\n- The Dark Knight (2008)\\n  Christopher Nolan blends superhero spectacle with dark crime thriller elements. The film threads Batman’s vigilante mission against Gotham’s criminal underworld with a chillingly chaotic villain in the Joker, creating a moral maze about justice, power, and sacrifice. Heath Ledger’s Joker delivers an unforgettable, iconic performance that fuels some of the film’s most intense set pieces and philosophical riffs, all anchored by strong performances, practical stunt work, and gripping IMAX sequences.\\n\\n- Terminator 2: Judgment Day (1991)\\n  A groundbreaking action-sci-fi experience that pairs heart-pounding chase sequences with a surprisingly human core. The T-800 returns as a protector for John Connor, while a relentlessly threatening T-1000 pushes the visuals and effects to new heights. With a mix of practical effects, innovative makeup, and thrilling set pieces, the film combines big-budget spectacle with a story about redemption, loyalty, and the cost of saving the future.\\n\\n- Mad Max: Fury Road (2015)\\n  A non-stop, visually arresting chase across a brutal desert landscape, driven by relentless stunt work and practical effects. Minimal dialogue heightens the senses as vehicles collide and roars of engines propel a high-octane pursuit. Led by Charlize Theron’s Furiosa and Tom Hardy’s Max, the film pairs furious action with a rebellious spirit and striking, kinetic visuals that feel like a moving piece of art as much as a blockbuster.\\n\\nIf you’d like, I can tailor more picks to a specific style (martial-arts focus, spy thrillers, newer releases, or pure gun-fu). Tell me your preferred angle and I’ll suggest a few options.', 'recommended': 'Nice concise set. Here’s a polished version of your descriptions, plus a few tailored picks you can use depending on style.\\n\\nRefined descriptions\\n- The Dark Knight (2008)\\n  A gripping blend of superhero spectacle and crime thriller. Batman’s battle against Gotham’s underworld collides with the chaotic genius of the Joker, creating a moral puzzle about justice, power, and sacrifice. Heath Ledger’s Joker anchors some of the film’s most memorable set pieces and philosophical moments, supported by strong performances, practical stunts, and gripping IMAX sequences.\\n\\n- Terminator 2: Judgment Day (1991)\\n  An action-sci-fi landmark that pairs high-octane chases with a surprisingly human core. The T-800 protects John Connor as the T-1000 pushes the limits of practical effects and makeup. The film fuses big-budget spectacle with a story about loyalty, redemption, and the costs of saving the future.\\n\\n- Mad Max: Fury Road (2015)\\n  A relentless desert chase driven by practical effects and spectacular stunt work. Minimal dialogue heightens the kinetic tension as vehicles collide and engines roar. Led by Charlize Theron and Tom Hardy, it’s a furious, artful action experience with a rebellious spirit.\\n\\nTop three (as a quick recommendation)\\n1) The Dark Knight (2008) — A gripping superhero/action blend anchored by Heath Ledger’s Joker and standout set-piece chaos.\\n2) Terminator 2: Judgment Day (1991) — Groundbreaking, high-octane sci-fi action with groundbreaking practical effects and a compelling human story.\\n3) Mad Max: Fury Road (2015) — Non-stop, visually stunning chase movie with practical effects, minimal dialogue, and adrenaline-fueled sequences.\\n\\nWant options in a different style? I can tailor picks to a specific angle. Tell me which you prefer, and I’ll suggest a few options:\\n- Martial-arts focus\\n  - The Raid: Redemption (2011) — Intense, close-quarters martial-arts action in a brutal building siege.\\n  - Ip Man (2008) — Refined martial-arts showcase with a strong-hearted lead.\\n  - Ong-Bak: Muay Thai Warrior (2003) — Ground-level, kinetic Thai martial arts action.\\n  - John Wick (2014) — Modern gun-fu and stylized combat with relentless pacing (spans several strong sequels).\\n\\n- Spy thrillers\\n  - Mission: Impossible – Fallout (2018) — High-stakes espionage with jaw-dropping stunts.\\n  - Skyfall (2012) — Personal, stylish spy thriller with sharp action.\\n  - Atomic Blonde (2017) — Cold-war spy thriller with slick combat sequences.\\n  - Tinker Tailor Soldier Spy (2011) — Slow-burn, intelligent espionage drama.\\n\\n- Newer releases\\n  - Mission: Impossible – Dead Reckoning Part One (2023) — Modern blockbuster scale and inventive set-pieces.\\n  - John Wick: Chapter 4 (2023) — Expansive, choreographed action world.\\n  - Extraction 2 (2023) — Fast-paced, gritty action continuation.\\n  - The Equalizer 3 (2023) — Lean, hard-hitting action for a more grounded tone.\\n\\n- Pure gun-fu / stylized action\\n  - John Wick series (especially 1–4) — Arrow-straight, highly choreographed gunplay and martial arts.\\n  - The Matrix (1999) — Groundbreaking action that blends gun-fu with inventive visuals.\\n  - The Raid films also fit this focus with their relentless action style.\\n\\nIf you share your preferred angle, runtime, mood (gritty vs. sleek), and how new you want the picks to be, I’ll tailor a tighter list with 4–6 options that fit exactly.'}\n"
     ]
    }
   ],
   "source": [
    "output=workflow.invoke({\"genre\":\"action movies\"})\n",
    "print(output)"
   ]
  },
  {
   "cell_type": "code",
   "execution_count": 7,
   "id": "26cb59a3",
   "metadata": {},
   "outputs": [
    {
     "name": "stdout",
     "output_type": "stream",
     "text": [
      "action movies\n"
     ]
    }
   ],
   "source": [
    "print(output[\"genre\"])"
   ]
  },
  {
   "cell_type": "code",
   "execution_count": 8,
   "id": "55de14ff",
   "metadata": {},
   "outputs": [
    {
     "name": "stdout",
     "output_type": "stream",
     "text": [
      "Here are three widely regarded top action movies you might enjoy:\n",
      "\n",
      "1) The Dark Knight (2008) — A gripping superhero/action blend from Christopher Nolan, anchored by Heath Ledger’s iconic Joker and standout set-piece chaos.\n",
      "\n",
      "2) Terminator 2: Judgment Day (1991) — Groundbreaking, high-octane sci-fi action with groundbreaking practical effects and a compelling human story.\n",
      "\n",
      "3) Mad Max: Fury Road (2015) — Non-stop, visually stunning chase movie with practical effects, minimal dialogue, and adrenaline-fueled sequences.\n",
      "\n",
      "Want options in a different style (martial-arts focus, spy thrillers, newer releases, or pure gun-fu)? I can tailor a few more picks.\n"
     ]
    }
   ],
   "source": [
    "print(output[\"movies\"])"
   ]
  },
  {
   "cell_type": "code",
   "execution_count": 9,
   "id": "9e515fb5",
   "metadata": {},
   "outputs": [
    {
     "name": "stdout",
     "output_type": "stream",
     "text": [
      "Here are concise descriptions for each film:\n",
      "\n",
      "- The Dark Knight (2008)\n",
      "  Christopher Nolan blends superhero spectacle with dark crime thriller elements. The film threads Batman’s vigilante mission against Gotham’s criminal underworld with a chillingly chaotic villain in the Joker, creating a moral maze about justice, power, and sacrifice. Heath Ledger’s Joker delivers an unforgettable, iconic performance that fuels some of the film’s most intense set pieces and philosophical riffs, all anchored by strong performances, practical stunt work, and gripping IMAX sequences.\n",
      "\n",
      "- Terminator 2: Judgment Day (1991)\n",
      "  A groundbreaking action-sci-fi experience that pairs heart-pounding chase sequences with a surprisingly human core. The T-800 returns as a protector for John Connor, while a relentlessly threatening T-1000 pushes the visuals and effects to new heights. With a mix of practical effects, innovative makeup, and thrilling set pieces, the film combines big-budget spectacle with a story about redemption, loyalty, and the cost of saving the future.\n",
      "\n",
      "- Mad Max: Fury Road (2015)\n",
      "  A non-stop, visually arresting chase across a brutal desert landscape, driven by relentless stunt work and practical effects. Minimal dialogue heightens the senses as vehicles collide and roars of engines propel a high-octane pursuit. Led by Charlize Theron’s Furiosa and Tom Hardy’s Max, the film pairs furious action with a rebellious spirit and striking, kinetic visuals that feel like a moving piece of art as much as a blockbuster.\n",
      "\n",
      "If you’d like, I can tailor more picks to a specific style (martial-arts focus, spy thrillers, newer releases, or pure gun-fu). Tell me your preferred angle and I’ll suggest a few options.\n"
     ]
    }
   ],
   "source": [
    "print(output[\"description\"])"
   ]
  },
  {
   "cell_type": "code",
   "execution_count": 10,
   "id": "5338d277",
   "metadata": {},
   "outputs": [
    {
     "name": "stdout",
     "output_type": "stream",
     "text": [
      "Nice concise set. Here’s a polished version of your descriptions, plus a few tailored picks you can use depending on style.\n",
      "\n",
      "Refined descriptions\n",
      "- The Dark Knight (2008)\n",
      "  A gripping blend of superhero spectacle and crime thriller. Batman’s battle against Gotham’s underworld collides with the chaotic genius of the Joker, creating a moral puzzle about justice, power, and sacrifice. Heath Ledger’s Joker anchors some of the film’s most memorable set pieces and philosophical moments, supported by strong performances, practical stunts, and gripping IMAX sequences.\n",
      "\n",
      "- Terminator 2: Judgment Day (1991)\n",
      "  An action-sci-fi landmark that pairs high-octane chases with a surprisingly human core. The T-800 protects John Connor as the T-1000 pushes the limits of practical effects and makeup. The film fuses big-budget spectacle with a story about loyalty, redemption, and the costs of saving the future.\n",
      "\n",
      "- Mad Max: Fury Road (2015)\n",
      "  A relentless desert chase driven by practical effects and spectacular stunt work. Minimal dialogue heightens the kinetic tension as vehicles collide and engines roar. Led by Charlize Theron and Tom Hardy, it’s a furious, artful action experience with a rebellious spirit.\n",
      "\n",
      "Top three (as a quick recommendation)\n",
      "1) The Dark Knight (2008) — A gripping superhero/action blend anchored by Heath Ledger’s Joker and standout set-piece chaos.\n",
      "2) Terminator 2: Judgment Day (1991) — Groundbreaking, high-octane sci-fi action with groundbreaking practical effects and a compelling human story.\n",
      "3) Mad Max: Fury Road (2015) — Non-stop, visually stunning chase movie with practical effects, minimal dialogue, and adrenaline-fueled sequences.\n",
      "\n",
      "Want options in a different style? I can tailor picks to a specific angle. Tell me which you prefer, and I’ll suggest a few options:\n",
      "- Martial-arts focus\n",
      "  - The Raid: Redemption (2011) — Intense, close-quarters martial-arts action in a brutal building siege.\n",
      "  - Ip Man (2008) — Refined martial-arts showcase with a strong-hearted lead.\n",
      "  - Ong-Bak: Muay Thai Warrior (2003) — Ground-level, kinetic Thai martial arts action.\n",
      "  - John Wick (2014) — Modern gun-fu and stylized combat with relentless pacing (spans several strong sequels).\n",
      "\n",
      "- Spy thrillers\n",
      "  - Mission: Impossible – Fallout (2018) — High-stakes espionage with jaw-dropping stunts.\n",
      "  - Skyfall (2012) — Personal, stylish spy thriller with sharp action.\n",
      "  - Atomic Blonde (2017) — Cold-war spy thriller with slick combat sequences.\n",
      "  - Tinker Tailor Soldier Spy (2011) — Slow-burn, intelligent espionage drama.\n",
      "\n",
      "- Newer releases\n",
      "  - Mission: Impossible – Dead Reckoning Part One (2023) — Modern blockbuster scale and inventive set-pieces.\n",
      "  - John Wick: Chapter 4 (2023) — Expansive, choreographed action world.\n",
      "  - Extraction 2 (2023) — Fast-paced, gritty action continuation.\n",
      "  - The Equalizer 3 (2023) — Lean, hard-hitting action for a more grounded tone.\n",
      "\n",
      "- Pure gun-fu / stylized action\n",
      "  - John Wick series (especially 1–4) — Arrow-straight, highly choreographed gunplay and martial arts.\n",
      "  - The Matrix (1999) — Groundbreaking action that blends gun-fu with inventive visuals.\n",
      "  - The Raid films also fit this focus with their relentless action style.\n",
      "\n",
      "If you share your preferred angle, runtime, mood (gritty vs. sleek), and how new you want the picks to be, I’ll tailor a tighter list with 4–6 options that fit exactly.\n"
     ]
    }
   ],
   "source": [
    "print(output[\"recommended\"])"
   ]
  }
 ],
 "metadata": {
  "kernelspec": {
   "display_name": "venv",
   "language": "python",
   "name": "python3"
  },
  "language_info": {
   "codemirror_mode": {
    "name": "ipython",
    "version": 3
   },
   "file_extension": ".py",
   "mimetype": "text/x-python",
   "name": "python",
   "nbconvert_exporter": "python",
   "pygments_lexer": "ipython3",
   "version": "3.11.2"
  }
 },
 "nbformat": 4,
 "nbformat_minor": 5
}
