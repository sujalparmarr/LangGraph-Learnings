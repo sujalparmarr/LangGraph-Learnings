{
 "cells": [
  {
   "cell_type": "code",
   "execution_count": 1,
   "id": "8048f246",
   "metadata": {},
   "outputs": [],
   "source": [
    "from dotenv import load_dotenv\n",
    "load_dotenv()\n",
    "from langchain_openai import ChatOpenAI\n",
    "from langgraph.graph import StateGraph , START , END\n",
    "from typing import TypedDict, Literal"
   ]
  },
  {
   "cell_type": "code",
   "execution_count": 2,
   "id": "826fa96b",
   "metadata": {},
   "outputs": [],
   "source": [
    "model = ChatOpenAI(model='gpt-5-nano')"
   ]
  },
  {
   "cell_type": "code",
   "execution_count": 3,
   "id": "647dfa43",
   "metadata": {},
   "outputs": [],
   "source": [
    "class EmailState(TypedDict):\n",
    "    email_text:str\n",
    "    reply:str\n",
    "    category:str "
   ]
  },
  {
   "cell_type": "code",
   "execution_count": 7,
   "id": "9f04d609",
   "metadata": {},
   "outputs": [],
   "source": [
    "def classify_email(state:EmailState):\n",
    "    prompt=f\"Classify this email as personal, work, or spam. Reply with one word only.\\n\\nEmail:\\n{email_text}\"\n",
    "    category=model.invoke(prompt).content \n",
    "    return {\"category\":category} \n",
    "\n",
    "def personal_reply(state: EmailState):\n",
    "    prompt = f\"Write a friendly and casual reply to this personal email:\\n\\n{state['email_text']}\"\n",
    "    reply = model.invoke(prompt).content\n",
    "    return {\"reply\": reply}\n",
    "\n",
    "def work_reply(state: EmailState):\n",
    "    prompt = f\"Write a formal and professional reply to this work email:\\n\\n{state['email_text']}\"\n",
    "    reply = model.invoke(prompt).content\n",
    "    return {\"reply\": reply}\n",
    "\n",
    "def spam_reply(state: EmailState):\n",
    "    return {\"reply\": \"No reply sent (spam detected).\"}\n",
    "\n",
    "#Conditional Function \n",
    "def check_category(state: EmailState) -> Literal[\"personal_reply\", \"work_reply\", \"spam_reply\"]:\n",
    "    if state[\"category\"] == \"personal\":\n",
    "        return \"personal_reply\"\n",
    "    elif state[\"category\"] == \"work\":\n",
    "        return \"work_reply\"\n",
    "    else:\n",
    "        return \"spam_reply\""
   ]
  },
  {
   "cell_type": "code",
   "execution_count": 8,
   "id": "996e93ab",
   "metadata": {},
   "outputs": [],
   "source": [
    "graph = StateGraph(EmailState)\n",
    "\n",
    "graph.add_node(\"classify_email\", classify_email)\n",
    "graph.add_node(\"personal_reply\", personal_reply)\n",
    "graph.add_node(\"work_reply\", work_reply)\n",
    "graph.add_node(\"spam_reply\", spam_reply)\n",
    "\n",
    "graph.add_edge(START, \"classify_email\")\n",
    "graph.add_conditional_edges(\"classify_email\", check_category)\n",
    "graph.add_edge(\"personal_reply\", END)\n",
    "graph.add_edge(\"work_reply\", END)\n",
    "graph.add_edge(\"spam_reply\", END)\n",
    "\n",
    "workflow = graph.compile()"
   ]
  },
  {
   "cell_type": "code",
   "execution_count": null,
   "id": "5a3908d2",
   "metadata": {},
   "outputs": [],
   "source": [
    "email_text=\"\"\" \n",
    "Subject: Project Timeline Adjustment  \n",
    "Hi Sujal,  \n",
    "After reviewing the current progress on the data migration project, we’d like to adjust the delivery timeline.  \n",
    "Could you please provide an updated schedule by Thursday so we can realign the client expectations?  \n",
    "Best regards,  \n",
    "Riya Mehta  \n",
    "Project Manager, TechNova Solutions\n",
    "\"\"\"\n",
    "output=workflow.invoke({\"email_text\":email_text})"
   ]
  },
  {
   "cell_type": "code",
   "execution_count": 17,
   "id": "10344544",
   "metadata": {},
   "outputs": [
    {
     "name": "stdout",
     "output_type": "stream",
     "text": [
      "work\n"
     ]
    }
   ],
   "source": [
    "print(output[\"category\"])"
   ]
  },
  {
   "cell_type": "code",
   "execution_count": 18,
   "id": "9dede462",
   "metadata": {},
   "outputs": [
    {
     "name": "stdout",
     "output_type": "stream",
     "text": [
      "Subject: Re: Project Timeline Adjustment\n",
      "\n",
      "Dear Riya,\n",
      "\n",
      "Thank you for the update. I understand the need to adjust the delivery timeline and will prepare an updated schedule that reflects the current data migration progress and realigned client expectations.\n",
      "\n",
      "I will deliver the revised plan by Thursday, September 18, 2025, and it will include:\n",
      "- Updated milestone dates and the revised critical path\n",
      "- Dependencies and resource allocations\n",
      "- Assumptions and risk mitigation notes\n",
      "- Contingency options (baseline and conservative) to cover potential variances\n",
      "\n",
      "I can provide the update in both an executive summary and a detailed, Gantt-friendly format. If there are any specific client constraints or priorities to incorporate, please share them; otherwise I will align with the latest scope and internal capacity.\n",
      "\n",
      "Would you prefer a brief 15-minute walkthrough to review the changes, or is a written document sufficient for now?\n",
      "\n",
      "Best regards,\n",
      "Sujal [Last Name]\n",
      "[Title]\n",
      "TechNova Solutions\n",
      "[Phone]\n",
      "[Email]\n"
     ]
    }
   ],
   "source": [
    "print(output[\"reply\"])"
   ]
  },
  {
   "cell_type": "code",
   "execution_count": 13,
   "id": "bec8c7bd",
   "metadata": {},
   "outputs": [],
   "source": [
    "email_text=\"\"\"Subject: Congratulations! You Won  \n",
    "Dear User,  \n",
    "You have been selected as the lucky winner of $1,000,000!  \n",
    "Click this link immediately to claim your prize: http://fakeprize.com  \n",
    "Act now or your reward will expire today!  \n",
    "Best regards,  \n",
    "MegaPrize Lottery Team\")\"\"\"\n",
    "\n",
    "result = workflow.invoke({\"email_text\":email_text})"
   ]
  },
  {
   "cell_type": "code",
   "execution_count": 15,
   "id": "40182eda",
   "metadata": {},
   "outputs": [
    {
     "name": "stdout",
     "output_type": "stream",
     "text": [
      "spam\n"
     ]
    }
   ],
   "source": [
    "print(result[\"category\"])"
   ]
  },
  {
   "cell_type": "code",
   "execution_count": null,
   "id": "af90c40a",
   "metadata": {},
   "outputs": [],
   "source": []
  }
 ],
 "metadata": {
  "kernelspec": {
   "display_name": "venv",
   "language": "python",
   "name": "python3"
  },
  "language_info": {
   "codemirror_mode": {
    "name": "ipython",
    "version": 3
   },
   "file_extension": ".py",
   "mimetype": "text/x-python",
   "name": "python",
   "nbconvert_exporter": "python",
   "pygments_lexer": "ipython3",
   "version": "3.11.2"
  }
 },
 "nbformat": 4,
 "nbformat_minor": 5
}
