{
 "cells": [
  {
   "cell_type": "code",
   "execution_count": 1,
   "id": "0fc209ab",
   "metadata": {},
   "outputs": [],
   "source": [
    "from langgraph.graph import StateGraph, START, END\n",
    "from langchain_openai import ChatOpenAI\n",
    "from langgraph.checkpoint.memory import InMemorySaver\n",
    "from typing import TypedDict\n",
    "from dotenv import load_dotenv"
   ]
  },
  {
   "cell_type": "code",
   "execution_count": 2,
   "id": "8e088ee7",
   "metadata": {},
   "outputs": [],
   "source": [
    "load_dotenv()\n",
    "\n",
    "llm = ChatOpenAI()\n",
    "\n",
    "class QuoteState(TypedDict):\n",
    "    topic: str\n",
    "    quote: str\n",
    "    summary: str\n"
   ]
  },
  {
   "cell_type": "code",
   "execution_count": 8,
   "id": "09fc869d",
   "metadata": {},
   "outputs": [],
   "source": [
    "\n",
    "def make_quote(state: QuoteState):\n",
    "    prompt = f\"Write a short inspirational quote about {state['topic']}.\"\n",
    "    quote = llm.invoke(prompt).content\n",
    "    return {\"quote\": quote}\n",
    "\n",
    "def summarize_quote(state: QuoteState):\n",
    "    prompt = f\"Summarize this quote {state['quote']}\"\n",
    "    summary = llm.invoke(prompt).content\n",
    "    return {\"summary\": summary}\n"
   ]
  },
  {
   "cell_type": "code",
   "execution_count": 4,
   "id": "6b1ae01d",
   "metadata": {},
   "outputs": [],
   "source": [
    "graph = StateGraph(QuoteState)\n",
    "graph.add_node(\"make_quote\", make_quote)\n",
    "graph.add_node(\"summarize_quote\", summarize_quote)\n",
    "\n",
    "graph.add_edge(START, \"make_quote\")\n",
    "graph.add_edge(\"make_quote\", \"summarize_quote\")\n",
    "graph.add_edge(\"summarize_quote\", END)\n",
    "\n",
    "checkpointer = InMemorySaver()\n",
    "\n",
    "workflow = graph.compile(checkpointer=checkpointer)\n",
    "\n"
   ]
  },
  {
   "cell_type": "code",
   "execution_count": 10,
   "id": "103a7643",
   "metadata": {},
   "outputs": [],
   "source": [
    "config = {\"configurable\": {\"thread_id\": \"1\"}}\n",
    "\n",
    "result = workflow.invoke({\"topic\": \"Warren Buffett\"}, config=config)"
   ]
  },
  {
   "cell_type": "code",
   "execution_count": 11,
   "id": "b7056221",
   "metadata": {},
   "outputs": [
    {
     "name": "stdout",
     "output_type": "stream",
     "text": [
      "Quote: \"Warren Buffett's success is a testament to the power of patience, wisdom, and discipline in the world of investing.\"\n"
     ]
    }
   ],
   "source": [
    "print(\"Quote:\", result[\"quote\"])\n"
   ]
  },
  {
   "cell_type": "code",
   "execution_count": 12,
   "id": "4385c445",
   "metadata": {},
   "outputs": [
    {
     "name": "stdout",
     "output_type": "stream",
     "text": [
      "Summary: Patience, wisdom, discipline lead to investing success.\n"
     ]
    }
   ],
   "source": [
    "print(\"Summary:\", result[\"summary\"])"
   ]
  },
  {
   "cell_type": "code",
   "execution_count": 14,
   "id": "75d71bf3",
   "metadata": {},
   "outputs": [
    {
     "data": {
      "text/plain": [
       "StateSnapshot(values={'topic': 'Warren Buffett', 'quote': '\"Warren Buffett\\'s success is a testament to the power of patience, wisdom, and discipline in the world of investing.\"', 'summary': 'Patience, wisdom, discipline lead to investing success.'}, next=(), config={'configurable': {'thread_id': '1', 'checkpoint_ns': '', 'checkpoint_id': '1f0989fc-eb65-6798-8006-a0d107c65b8d'}}, metadata={'source': 'loop', 'step': 6, 'parents': {}}, created_at='2025-09-23T17:07:38.376386+00:00', parent_config={'configurable': {'thread_id': '1', 'checkpoint_ns': '', 'checkpoint_id': '1f0989fc-dc1a-69e4-8005-9de3444fca82'}}, tasks=(), interrupts=())"
      ]
     },
     "execution_count": 14,
     "metadata": {},
     "output_type": "execute_result"
    }
   ],
   "source": [
    "workflow.get_state(config)\n"
   ]
  }
 ],
 "metadata": {
  "kernelspec": {
   "display_name": "venv",
   "language": "python",
   "name": "python3"
  },
  "language_info": {
   "codemirror_mode": {
    "name": "ipython",
    "version": 3
   },
   "file_extension": ".py",
   "mimetype": "text/x-python",
   "name": "python",
   "nbconvert_exporter": "python",
   "pygments_lexer": "ipython3",
   "version": "3.11.2"
  }
 },
 "nbformat": 4,
 "nbformat_minor": 5
}
