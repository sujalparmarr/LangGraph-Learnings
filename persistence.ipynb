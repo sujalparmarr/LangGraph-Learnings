{
 "cells": [
  {
   "cell_type": "code",
   "execution_count": 1,
   "id": "9c26ede3",
   "metadata": {},
   "outputs": [
    {
     "data": {
      "text/plain": [
       "True"
      ]
     },
     "execution_count": 1,
     "metadata": {},
     "output_type": "execute_result"
    }
   ],
   "source": [
    "from langgraph.graph import StateGraph, START, END\n",
    "from typing import TypedDict\n",
    "from langchain_openai import ChatOpenAI\n",
    "from dotenv import load_dotenv\n",
    "from langgraph.checkpoint.memory import InMemorySaver\n",
    "load_dotenv()\n"
   ]
  },
  {
   "cell_type": "code",
   "execution_count": 2,
   "id": "92d02335",
   "metadata": {},
   "outputs": [],
   "source": [
    "llm = ChatOpenAI(model='gpt-5-nano')"
   ]
  },
  {
   "cell_type": "code",
   "execution_count": 4,
   "id": "16701d82",
   "metadata": {},
   "outputs": [],
   "source": [
    "class JokeState(TypedDict):\n",
    "\n",
    "    topic: str\n",
    "    joke: str\n",
    "    explanation: str\n",
    "def generate_joke(state: JokeState):\n",
    "\n",
    "    prompt = f'generate a joke on the topic {state[\"topic\"]}'\n",
    "    response = llm.invoke(prompt).content\n",
    "\n",
    "    return {'joke': response}\n",
    "def generate_explanation(state: JokeState):\n",
    "\n",
    "    prompt = f'write an explanation for the joke - {state[\"joke\"]}'\n",
    "    response = llm.invoke(prompt).content\n",
    "\n",
    "    return {'explanation': response}\n"
   ]
  },
  {
   "cell_type": "code",
   "execution_count": 5,
   "id": "6f69d7a2",
   "metadata": {},
   "outputs": [],
   "source": [
    "graph = StateGraph(JokeState)\n",
    "\n",
    "graph.add_node('generate_joke', generate_joke)\n",
    "graph.add_node('generate_explanation', generate_explanation)\n",
    "\n",
    "graph.add_edge(START, 'generate_joke')\n",
    "graph.add_edge('generate_joke', 'generate_explanation')\n",
    "graph.add_edge('generate_explanation', END)\n",
    "\n",
    "checkpointer = InMemorySaver()\n",
    "\n",
    "workflow = graph.compile(checkpointer=checkpointer)\n"
   ]
  },
  {
   "cell_type": "code",
   "execution_count": 6,
   "id": "cbe56217",
   "metadata": {},
   "outputs": [
    {
     "data": {
      "text/plain": [
       "{'topic': 'stock market',\n",
       " 'joke': 'Here are a few stock-market jokes. Pick your fave or I can tailor more:\\n\\n- Why did the stock market go to therapy? Too many emotional highs and lows.\\n- I invested in a bakery to diversify my portfolio. Now my assets are in dough.\\n- Why did the trader bring a ladder to the stock exchange? Because the stocks were going through the roof.',\n",
       " 'explanation': 'Here are explanations for each joke, so you can see what makes them tick and why they’re funny.\\n\\n1) Why did the stock market go to therapy? Too many emotional highs and lows.\\n- What’s funny: It uses a pun on “emotional highs and lows” (humans have mood swings; markets have price swings). The idea of a market “going to therapy” is playful because markets aren’t people, but treating market volatility like an emotional person makes the joke relatable.\\n- The finance angle: “Highs and lows” refers to market peaks and troughs, i.e., volatility. Therapy is the unexpected, humorous twist that personifies the market.\\n\\n2) I invested in a bakery to diversify my portfolio. Now my assets are in dough.\\n- What’s funny: It blends financial jargon with bakery imagery. “Diversify my portfolio” is a standard investing idea, but turning “assets” into something literal (dough) creates a silly visual and a pun on money.\\n- The finance angle: “Portfolio” and “assets” are core terms in investing. “In dough” plays on “dough” meaning both money slang and the bread batter, so money assets become literal dough.\\n\\n3) Why did the trader bring a ladder to the stock exchange? Because the stocks were going through the roof.\\n- What’s funny: It’s a classic wordplay joke. “Going through the roof” is an idiom meaning prices are rising rapidly, but taken literally, it suggests you’d need a ladder to climb to the roof.\\n- The finance angle: It riffs on a common market phrase (stocks going up) and pairs it with a physical, visual gag (ladder to the roof).\\n\\nIf you want, I can tailor more jokes to a specific audience (e.g., beginners, seasoned traders, a corporate setting) or craft a few one-liners with a similar vibe. Want me to generate a few options in a particular style (puns, longer setups, or observational humor)?'}"
      ]
     },
     "execution_count": 6,
     "metadata": {},
     "output_type": "execute_result"
    }
   ],
   "source": [
    "config1 = {\"configurable\": {\"thread_id\": \"1\"}}\n",
    "workflow.invoke({'topic':'stock market'}, config=config1)"
   ]
  },
  {
   "cell_type": "code",
   "execution_count": 7,
   "id": "9ec9d985",
   "metadata": {},
   "outputs": [
    {
     "data": {
      "text/plain": [
       "StateSnapshot(values={'topic': 'stock market', 'joke': 'Here are a few stock-market jokes. Pick your fave or I can tailor more:\\n\\n- Why did the stock market go to therapy? Too many emotional highs and lows.\\n- I invested in a bakery to diversify my portfolio. Now my assets are in dough.\\n- Why did the trader bring a ladder to the stock exchange? Because the stocks were going through the roof.', 'explanation': 'Here are explanations for each joke, so you can see what makes them tick and why they’re funny.\\n\\n1) Why did the stock market go to therapy? Too many emotional highs and lows.\\n- What’s funny: It uses a pun on “emotional highs and lows” (humans have mood swings; markets have price swings). The idea of a market “going to therapy” is playful because markets aren’t people, but treating market volatility like an emotional person makes the joke relatable.\\n- The finance angle: “Highs and lows” refers to market peaks and troughs, i.e., volatility. Therapy is the unexpected, humorous twist that personifies the market.\\n\\n2) I invested in a bakery to diversify my portfolio. Now my assets are in dough.\\n- What’s funny: It blends financial jargon with bakery imagery. “Diversify my portfolio” is a standard investing idea, but turning “assets” into something literal (dough) creates a silly visual and a pun on money.\\n- The finance angle: “Portfolio” and “assets” are core terms in investing. “In dough” plays on “dough” meaning both money slang and the bread batter, so money assets become literal dough.\\n\\n3) Why did the trader bring a ladder to the stock exchange? Because the stocks were going through the roof.\\n- What’s funny: It’s a classic wordplay joke. “Going through the roof” is an idiom meaning prices are rising rapidly, but taken literally, it suggests you’d need a ladder to climb to the roof.\\n- The finance angle: It riffs on a common market phrase (stocks going up) and pairs it with a physical, visual gag (ladder to the roof).\\n\\nIf you want, I can tailor more jokes to a specific audience (e.g., beginners, seasoned traders, a corporate setting) or craft a few one-liners with a similar vibe. Want me to generate a few options in a particular style (puns, longer setups, or observational humor)?'}, next=(), config={'configurable': {'thread_id': '1', 'checkpoint_ns': '', 'checkpoint_id': '1f09596e-6744-6051-8002-69f9442f34a9'}}, metadata={'source': 'loop', 'step': 2, 'parents': {}}, created_at='2025-09-19T20:26:19.249672+00:00', parent_config={'configurable': {'thread_id': '1', 'checkpoint_ns': '', 'checkpoint_id': '1f09596d-ed97-6dbf-8001-689b1625a8e5'}}, tasks=(), interrupts=())"
      ]
     },
     "execution_count": 7,
     "metadata": {},
     "output_type": "execute_result"
    }
   ],
   "source": [
    "workflow.get_state(config1)\n"
   ]
  },
  {
   "cell_type": "code",
   "execution_count": 8,
   "id": "9be5003c",
   "metadata": {},
   "outputs": [
    {
     "data": {
      "text/plain": [
       "{'topic': 'fries',\n",
       " 'joke': \"Here's a quick fry joke: Why did the fry get promoted? It was outstanding in its field.\",\n",
       " 'explanation': 'Here’s why the joke lands:\\n\\n- Structure: It’s a setup-punchline joke. The setup asks about a promotion, which makes you think of a workplace win or ladder-climbing. The punchline flips that expectation.\\n\\n- The key pun: “outstanding” has two meanings:\\n  - Literally: “standing out” or “standing in a field.”\\n  - Figuratively: “exceptionally good” or “excellent.”\\n\\n- The word “field”:  \\n  - In the literal sense, a field is where crops grow. Potatoes (which turn into fries) are grown in fields.  \\n  - In the figurative sense, “in your field” means in your area of expertise.\\n\\n- The joke ties these together: a fry (a potato-based food) gets promoted because it’s “outstanding in its field.” It plays on being excellent in its domain while also literally being in a field (the field where potatoes grow). The humor comes from the double meaning and the silly image of a snack being promoted like an employee.\\n\\n- Extra angle: It’s also a play on a classic pun used in similar jokes, e.g., “Why did the scarecrow win an award? Because he was outstanding in his field.” The structure relies on the same double-meaning wordplay.\\n\\nIf you want to explain it to kids, you might highlight:\\n- “Outstanding” = really great, or literally standing out.\\n- “Field” = the place where crops grow, like potatoes used to make fries.'}"
      ]
     },
     "execution_count": 8,
     "metadata": {},
     "output_type": "execute_result"
    }
   ],
   "source": [
    "config2 = {\"configurable\": {\"thread_id\": \"2\"}}\n",
    "workflow.invoke({'topic':'fries'}, config=config2)"
   ]
  },
  {
   "cell_type": "code",
   "execution_count": 9,
   "id": "74b5d2ae",
   "metadata": {},
   "outputs": [
    {
     "data": {
      "text/plain": [
       "[StateSnapshot(values={'topic': 'stock market', 'joke': 'Here are a few stock-market jokes. Pick your fave or I can tailor more:\\n\\n- Why did the stock market go to therapy? Too many emotional highs and lows.\\n- I invested in a bakery to diversify my portfolio. Now my assets are in dough.\\n- Why did the trader bring a ladder to the stock exchange? Because the stocks were going through the roof.', 'explanation': 'Here are explanations for each joke, so you can see what makes them tick and why they’re funny.\\n\\n1) Why did the stock market go to therapy? Too many emotional highs and lows.\\n- What’s funny: It uses a pun on “emotional highs and lows” (humans have mood swings; markets have price swings). The idea of a market “going to therapy” is playful because markets aren’t people, but treating market volatility like an emotional person makes the joke relatable.\\n- The finance angle: “Highs and lows” refers to market peaks and troughs, i.e., volatility. Therapy is the unexpected, humorous twist that personifies the market.\\n\\n2) I invested in a bakery to diversify my portfolio. Now my assets are in dough.\\n- What’s funny: It blends financial jargon with bakery imagery. “Diversify my portfolio” is a standard investing idea, but turning “assets” into something literal (dough) creates a silly visual and a pun on money.\\n- The finance angle: “Portfolio” and “assets” are core terms in investing. “In dough” plays on “dough” meaning both money slang and the bread batter, so money assets become literal dough.\\n\\n3) Why did the trader bring a ladder to the stock exchange? Because the stocks were going through the roof.\\n- What’s funny: It’s a classic wordplay joke. “Going through the roof” is an idiom meaning prices are rising rapidly, but taken literally, it suggests you’d need a ladder to climb to the roof.\\n- The finance angle: It riffs on a common market phrase (stocks going up) and pairs it with a physical, visual gag (ladder to the roof).\\n\\nIf you want, I can tailor more jokes to a specific audience (e.g., beginners, seasoned traders, a corporate setting) or craft a few one-liners with a similar vibe. Want me to generate a few options in a particular style (puns, longer setups, or observational humor)?'}, next=(), config={'configurable': {'thread_id': '1', 'checkpoint_ns': '', 'checkpoint_id': '1f09596e-6744-6051-8002-69f9442f34a9'}}, metadata={'source': 'loop', 'step': 2, 'parents': {}}, created_at='2025-09-19T20:26:19.249672+00:00', parent_config={'configurable': {'thread_id': '1', 'checkpoint_ns': '', 'checkpoint_id': '1f09596d-ed97-6dbf-8001-689b1625a8e5'}}, tasks=(), interrupts=()),\n",
       " StateSnapshot(values={'topic': 'stock market', 'joke': 'Here are a few stock-market jokes. Pick your fave or I can tailor more:\\n\\n- Why did the stock market go to therapy? Too many emotional highs and lows.\\n- I invested in a bakery to diversify my portfolio. Now my assets are in dough.\\n- Why did the trader bring a ladder to the stock exchange? Because the stocks were going through the roof.'}, next=('generate_explanation',), config={'configurable': {'thread_id': '1', 'checkpoint_ns': '', 'checkpoint_id': '1f09596d-ed97-6dbf-8001-689b1625a8e5'}}, metadata={'source': 'loop', 'step': 1, 'parents': {}}, created_at='2025-09-19T20:26:06.491385+00:00', parent_config={'configurable': {'thread_id': '1', 'checkpoint_ns': '', 'checkpoint_id': '1f09596d-a493-6bf1-8000-b222cf3ba71e'}}, tasks=(PregelTask(id='348f8ac9-759a-d469-1005-ccd2d39e6876', name='generate_explanation', path=('__pregel_pull', 'generate_explanation'), error=None, interrupts=(), state=None, result={'explanation': 'Here are explanations for each joke, so you can see what makes them tick and why they’re funny.\\n\\n1) Why did the stock market go to therapy? Too many emotional highs and lows.\\n- What’s funny: It uses a pun on “emotional highs and lows” (humans have mood swings; markets have price swings). The idea of a market “going to therapy” is playful because markets aren’t people, but treating market volatility like an emotional person makes the joke relatable.\\n- The finance angle: “Highs and lows” refers to market peaks and troughs, i.e., volatility. Therapy is the unexpected, humorous twist that personifies the market.\\n\\n2) I invested in a bakery to diversify my portfolio. Now my assets are in dough.\\n- What’s funny: It blends financial jargon with bakery imagery. “Diversify my portfolio” is a standard investing idea, but turning “assets” into something literal (dough) creates a silly visual and a pun on money.\\n- The finance angle: “Portfolio” and “assets” are core terms in investing. “In dough” plays on “dough” meaning both money slang and the bread batter, so money assets become literal dough.\\n\\n3) Why did the trader bring a ladder to the stock exchange? Because the stocks were going through the roof.\\n- What’s funny: It’s a classic wordplay joke. “Going through the roof” is an idiom meaning prices are rising rapidly, but taken literally, it suggests you’d need a ladder to climb to the roof.\\n- The finance angle: It riffs on a common market phrase (stocks going up) and pairs it with a physical, visual gag (ladder to the roof).\\n\\nIf you want, I can tailor more jokes to a specific audience (e.g., beginners, seasoned traders, a corporate setting) or craft a few one-liners with a similar vibe. Want me to generate a few options in a particular style (puns, longer setups, or observational humor)?'}),), interrupts=()),\n",
       " StateSnapshot(values={'topic': 'stock market'}, next=('generate_joke',), config={'configurable': {'thread_id': '1', 'checkpoint_ns': '', 'checkpoint_id': '1f09596d-a493-6bf1-8000-b222cf3ba71e'}}, metadata={'source': 'loop', 'step': 0, 'parents': {}}, created_at='2025-09-19T20:25:58.835096+00:00', parent_config={'configurable': {'thread_id': '1', 'checkpoint_ns': '', 'checkpoint_id': '1f09596d-a480-6e3f-bfff-5751efb77c94'}}, tasks=(PregelTask(id='837837f1-8097-4ae2-408b-911d64a2149a', name='generate_joke', path=('__pregel_pull', 'generate_joke'), error=None, interrupts=(), state=None, result={'joke': 'Here are a few stock-market jokes. Pick your fave or I can tailor more:\\n\\n- Why did the stock market go to therapy? Too many emotional highs and lows.\\n- I invested in a bakery to diversify my portfolio. Now my assets are in dough.\\n- Why did the trader bring a ladder to the stock exchange? Because the stocks were going through the roof.'}),), interrupts=()),\n",
       " StateSnapshot(values={}, next=('__start__',), config={'configurable': {'thread_id': '1', 'checkpoint_ns': '', 'checkpoint_id': '1f09596d-a480-6e3f-bfff-5751efb77c94'}}, metadata={'source': 'input', 'step': -1, 'parents': {}}, created_at='2025-09-19T20:25:58.827372+00:00', parent_config=None, tasks=(PregelTask(id='c1275492-e5df-26ab-7c26-b31e67d53f50', name='__start__', path=('__pregel_pull', '__start__'), error=None, interrupts=(), state=None, result={'topic': 'stock market'}),), interrupts=())]"
      ]
     },
     "execution_count": 9,
     "metadata": {},
     "output_type": "execute_result"
    }
   ],
   "source": [
    "list(workflow.get_state_history(config1))\n"
   ]
  },
  {
   "cell_type": "code",
   "execution_count": null,
   "id": "37b8cb4b",
   "metadata": {},
   "outputs": [],
   "source": []
  },
  {
   "cell_type": "code",
   "execution_count": null,
   "id": "a14ac5c8",
   "metadata": {},
   "outputs": [],
   "source": []
  },
  {
   "cell_type": "code",
   "execution_count": null,
   "id": "32c6d8a7",
   "metadata": {},
   "outputs": [],
   "source": []
  },
  {
   "cell_type": "code",
   "execution_count": null,
   "id": "f80920c7",
   "metadata": {},
   "outputs": [],
   "source": []
  }
 ],
 "metadata": {
  "kernelspec": {
   "display_name": "venv",
   "language": "python",
   "name": "python3"
  },
  "language_info": {
   "codemirror_mode": {
    "name": "ipython",
    "version": 3
   },
   "file_extension": ".py",
   "mimetype": "text/x-python",
   "name": "python",
   "nbconvert_exporter": "python",
   "pygments_lexer": "ipython3",
   "version": "3.11.2"
  }
 },
 "nbformat": 4,
 "nbformat_minor": 5
}
